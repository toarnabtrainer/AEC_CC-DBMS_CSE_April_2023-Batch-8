{
 "cells": [
  {
   "cell_type": "markdown",
   "id": "b3f5c8f1-bce2-41fd-878a-843be4c03f3b",
   "metadata": {},
   "source": [
    "## **Dynamic Programming**"
   ]
  },
  {
   "cell_type": "markdown",
   "id": "145c6f83-2f26-41f4-9540-f8219d93a5ee",
   "metadata": {},
   "source": [
    "> Dynamic Programming is a technique that combines the correctness of complete search and also finds the efficiency of Greedy algorithms. Dynamic Programming can be applied if the problem can be divided into overlapping subproblems that can be solved independently.\n",
    "\n",
    "> There are two uses of Dynamic Programming\n",
    "* **Finding an Optimal solution -** We want to find the solution that is as large as possible or as small as possible.\n",
    "* **Counting the number of solutions -**  We want to find to calculate the total number of possible and feasible solutions."
   ]
  },
  {
   "cell_type": "code",
   "execution_count": 1,
   "id": "3a1e380f-02a0-4367-a08f-b5697e4712e6",
   "metadata": {},
   "outputs": [
    {
     "name": "stdout",
     "output_type": "stream",
     "text": [
      "5\n",
      "21\n"
     ]
    }
   ],
   "source": [
    "# Fibonacci Problem\n",
    "#              index >  0  1  2  3  4  5  6  7   8   9   10 ...\n",
    "# Fibonacci numbers ->  0  1  1  2  3  5  8  13  21  34  55 ...\n",
    "# recursion calls the stacks, enhancing both the time complexity (exponential) and space complexity (extra space\n",
    "# to hold the return addresses of recursive function calls O(n)) complexities\n",
    "# find the n-th term of the Fibonacci series.\n",
    "def fibonacciRecursive(n):\n",
    "    if (n == 0 or n == 1):\n",
    "        return n\n",
    "    ans = fibonacciRecursive(n - 1) + fibonacciRecursive(n - 2)\n",
    "    return ans\n",
    "\n",
    "print (fibonacciRecursive(5))   # 5\n",
    "print (fibonacciRecursive(8))   # 21"
   ]
  },
  {
   "cell_type": "code",
   "execution_count": 3,
   "id": "3f5d4937-bb10-47fd-aa46-dfe1a59e155a",
   "metadata": {},
   "outputs": [
    {
     "name": "stdin",
     "output_type": "stream",
     "text": [
      "Please enter the index number:  5\n"
     ]
    },
    {
     "name": "stdout",
     "output_type": "stream",
     "text": [
      "5\n",
      "[0, 0, 1, 2, 3, 5]\n"
     ]
    }
   ],
   "source": [
    "# Fibonacci Problem\n",
    "#              index >  0  1  2  3  4  5  6  7   8   9   10 ...\n",
    "# Fibonacci numbers ->  0  1  1  2  3  5  8  13  21  34  55 ...\n",
    "# solving Fibonacci number problem in DP top-down approach\n",
    "# find the n-th term of the Fibonacci series.\n",
    "def fibonacciDPTopDown(n, dp):\n",
    "    if (n == 0 or n == 1): return n\n",
    "    if (dp[n] != 0): return dp[n]\n",
    "    dp[n] = fibonacciDPTopDown(n - 1, dp) + fibonacciDPTopDown(n - 2, dp)\n",
    "    return dp[n]\n",
    "\n",
    "n = int(input(\"Please enter the index number: \"))\n",
    "dp = [0 for i in range(n + 1)]\n",
    "print (fibonacciDPTopDown(n, dp))\n",
    "print (dp)"
   ]
  },
  {
   "cell_type": "code",
   "execution_count": null,
   "id": "ae90b45c-b189-4e5b-81ef-192d790173a8",
   "metadata": {},
   "outputs": [],
   "source": [
    "# Java Implementation\n",
    "package TestingThings;\n",
    "import java.util.Scanner;\n",
    "public class fibo {\n",
    "    public static void main(String[] args) {\n",
    "\n",
    "        Scanner sc=new Scanner(System.in);\n",
    "        int n=sc.nextInt();\n",
    "        int dp[]=new int[n+1];\n",
    "        System.out.println(Fibo(n,dp));\n",
    "\n",
    "    }\n",
    "    public  static  int Fibo(int n,int dp[]){\n",
    "        if(n==1 || n==0) return n;\n",
    "        if(dp[n]!=0){\n",
    "            return dp[n];\n",
    "        }\n",
    "\n",
    "       dp[n]=Fibo(n-1,dp)+Fibo(n-2,dp);\n",
    "        return dp[n];\n",
    "    }\n",
    "}                                                                                        "
   ]
  },
  {
   "cell_type": "code",
   "execution_count": 6,
   "id": "321c1f98-5364-4434-b09d-46e85a26df61",
   "metadata": {},
   "outputs": [
    {
     "name": "stdin",
     "output_type": "stream",
     "text": [
      "Please enter the index number:  5\n"
     ]
    },
    {
     "name": "stdout",
     "output_type": "stream",
     "text": [
      "[0, 1, 1, 2, 3, 5]\n",
      "5\n"
     ]
    }
   ],
   "source": [
    "# Fibonacci Problem\n",
    "#              index >  0  1  2  3  4  5  6  7   8   9   10 ...\n",
    "# Fibonacci numbers ->  0  1  1  2  3  5  8  13  21  34  55 ...\n",
    "# solving Fibonacci number problem in DP bottom up approach\n",
    "# time complexity O(n) and space complexity O(n)\n",
    "# find the n-th term of the Fibonacci series.\n",
    "def fibonacciDPBottomUp(n):\n",
    "    dp = [0 for i in range(n + 1)]\n",
    "    dp[0] = 0\n",
    "    dp[1] = 1\n",
    "    for i in range(2, n + 1):\n",
    "        dp[i] = dp[i - 1] + dp[i - 2]\n",
    "    print (dp)\n",
    "    return dp[n]\n",
    "\n",
    "n = int(input(\"Please enter the index number: \"))\n",
    "print (fibonacciDPBottomUp(n))"
   ]
  },
  {
   "cell_type": "code",
   "execution_count": 7,
   "id": "b3dc79fb-baae-40ba-9950-5e9b2eae6d5e",
   "metadata": {},
   "outputs": [
    {
     "name": "stdin",
     "output_type": "stream",
     "text": [
      "Please enter the index number:  5\n"
     ]
    },
    {
     "name": "stdout",
     "output_type": "stream",
     "text": [
      "5\n"
     ]
    }
   ],
   "source": [
    "# Fibonacci Problem\n",
    "#              index >  0  1  2  3  4  5  6  7   8   9   10 ...\n",
    "# Fibonacci numbers ->  0  1  1  2  3  5  8  13  21  34  55 ...\n",
    "# solving Fibonacci number problem in DP bottom up approach\n",
    "# time complexity O(n) and space complexity O(1)\n",
    "# find the n-th term of the Fibonacci series.\n",
    "def fibonacciDPBottomUpSpaceOptimized(n):\n",
    "    if (n == 0 or n == 1):\n",
    "        return n\n",
    "    f1 = 0\n",
    "    f2 = 1\n",
    "    for i in range(2, n + 1):\n",
    "        f3 = f1 + f2\n",
    "        f1 = f2\n",
    "        f2 = f3\n",
    "    return f3\n",
    "\n",
    "n = int(input(\"Please enter the index number: \"))\n",
    "print (fibonacciDPBottomUpSpaceOptimized(n))"
   ]
  },
  {
   "cell_type": "code",
   "execution_count": null,
   "id": "3cb557db-0111-4445-b8e5-63c4fdbdb31b",
   "metadata": {},
   "outputs": [],
   "source": [
    "LeetCode: 509. Fibonacci Number (https://leetcode.com/problems/fibonacci-number/)\n",
    "\n",
    "The Fibonacci numbers, commonly denoted F(n) form a sequence, called the Fibonacci sequence,\n",
    "such that each number is the sum of the two preceding ones, starting from 0 and 1. That is,\n",
    "\n",
    "F(0) = 0, F(1) = 1\n",
    "F(n) = F(n - 1) + F(n - 2), for n > 1.\n",
    "Given n, calculate F(n).\n",
    "\n",
    "Example 1:\n",
    "Input: n = 2\n",
    "Output: 1\n",
    "Explanation: F(2) = F(1) + F(0) = 1 + 0 = 1.\n",
    "\n",
    "Example 2:\n",
    "Input: n = 3\n",
    "Output: 2\n",
    "Explanation: F(3) = F(2) + F(1) = 1 + 1 = 2.\n",
    "\n",
    "Example 3:\n",
    "Input: n = 4\n",
    "Output: 3\n",
    "Explanation: F(4) = F(3) + F(2) = 2 + 1 = 3.\n",
    "\n",
    "Constraints:\n",
    "0 <= n <= 30"
   ]
  },
  {
   "cell_type": "code",
   "execution_count": 8,
   "id": "71e5e1a0-65d6-4274-b6ba-9741232b6f3e",
   "metadata": {},
   "outputs": [
    {
     "name": "stdout",
     "output_type": "stream",
     "text": [
      "5\n",
      "21\n"
     ]
    }
   ],
   "source": [
    "class Solution(object):\n",
    "    def fib(self, n):\n",
    "        \"\"\"\n",
    "        :type n: int\n",
    "        :rtype: int\n",
    "        \"\"\"\n",
    "        if (n == 0 or n == 1):\n",
    "            return n\n",
    "        f1 = 0;\n",
    "        f2 = 1\n",
    "        for i in range(2, n + 1):\n",
    "            f3 = f1 + f2\n",
    "            f1 = f2\n",
    "            f2 = f3\n",
    "        return f3\n",
    "    \n",
    "print (Solution().fib(5))\n",
    "print (Solution().fib(8))"
   ]
  },
  {
   "cell_type": "code",
   "execution_count": null,
   "id": "7417f103-6071-4dab-b43e-277cbf7ded86",
   "metadata": {},
   "outputs": [],
   "source": [
    "# java Implementation\n",
    "class Solution {\n",
    "    public int fib(int n) {\n",
    "        \n",
    "        if(n==0)\n",
    "        {\n",
    "            return 0;\n",
    "        }\n",
    "        if(n==1)\n",
    "        {\n",
    "            return 1;\n",
    "        }\n",
    "        int ans = fib(n-1)+fib(n-2);\n",
    "        return ans;\n",
    "    }\n",
    "}"
   ]
  },
  {
   "cell_type": "code",
   "execution_count": null,
   "id": "dc458255-55fa-4291-80ac-69476209233a",
   "metadata": {},
   "outputs": [],
   "source": [
    "LetCode: 300. Longest Increasing Subsequence (https://leetcode.com/problems/longest-increasing-subsequence/)\n",
    "\n",
    "Given an integer array nums, return the length of the longest strictly increasing subsequence.\n",
    "\n",
    "Example 1:\n",
    "Input: nums = [10,9,2,5,3,7,101,18]\n",
    "Output: 4\n",
    "Explanation: The longest increasing subsequence is [2,3,7,101], therefore the length is 4.\n",
    "\n",
    "Example 2:\n",
    "Input: nums = [0,1,0,3,2,3]\n",
    "Output: 4\n",
    "\n",
    "Example 3:\n",
    "Input: nums = [7,7,7,7,7,7,7]\n",
    "Output: 1\n",
    "\n",
    "Constraints:\n",
    "1 <= nums.length <= 2500\n",
    "-10^4 <= nums[i] <= 10^4\n",
    "\n",
    "Follow up: Can you come up with an algorithm that runs in O(n log(n)) time complexity?"
   ]
  },
  {
   "cell_type": "code",
   "execution_count": 10,
   "id": "2953c550-c336-47da-97db-0fc5c8d98f62",
   "metadata": {},
   "outputs": [
    {
     "name": "stdout",
     "output_type": "stream",
     "text": [
      "[1, 1, 1, 1, 1, 1, 1, 1]\n",
      "[1, 1, 1, 1, 1, 1, 1, 1]\n",
      "[1, 1, 1, 2, 1, 1, 1, 1]\n",
      "[1, 1, 1, 2, 2, 1, 1, 1]\n",
      "[1, 1, 1, 2, 2, 3, 1, 1]\n",
      "[1, 1, 1, 2, 2, 3, 4, 1]\n",
      "[1, 1, 1, 2, 2, 3, 4, 4]\n",
      "4\n",
      "[1, 2, 1, 1, 1, 1, 1, 1, 1, 1]\n",
      "[1, 2, 1, 1, 1, 1, 1, 1, 1, 1]\n",
      "[1, 2, 1, 3, 1, 1, 1, 1, 1, 1]\n",
      "[1, 2, 1, 3, 2, 1, 1, 1, 1, 1]\n",
      "[1, 2, 1, 3, 2, 4, 1, 1, 1, 1]\n",
      "[1, 2, 1, 3, 2, 4, 4, 1, 1, 1]\n",
      "[1, 2, 1, 3, 2, 4, 4, 5, 1, 1]\n",
      "[1, 2, 1, 3, 2, 4, 4, 5, 6, 1]\n",
      "[1, 2, 1, 3, 2, 4, 4, 5, 6, 1]\n",
      "6\n"
     ]
    }
   ],
   "source": [
    "class Solution(object):\n",
    "    def lengthOfLIS(self, nums):\n",
    "        \"\"\"\n",
    "        :type nums: List[int]\n",
    "        :rtype: int\n",
    "        \"\"\"\n",
    "        n = len(nums)\n",
    "        if (n <= 1): return n\n",
    "        dp = [1 for i in range(n)]\n",
    "        for i in range(1, n):\n",
    "            for j in range(i):\n",
    "                if (nums[j] < nums[i]):\n",
    "                    current_len = 1 + dp[j]\n",
    "                    dp[i] = max(current_len, dp[i])\n",
    "            print (dp)\n",
    "        return max(dp)\n",
    "        \n",
    "print (Solution().lengthOfLIS([10,9,2,5,3,7,101,18]))   # 4\n",
    "print (Solution().lengthOfLIS([10,29,9,33,21,50,41,60,80,6]))   # 6"
   ]
  },
  {
   "cell_type": "code",
   "execution_count": null,
   "id": "44808fa7-fb77-4546-9dfa-4604ec21e367",
   "metadata": {},
   "outputs": [],
   "source": [
    "# Java Implementation\n",
    "//anish gupta from csbs\n",
    "\n",
    "class Solution {\n",
    "    private int lower_bound(List<Integer> a, int low, int high, int target) {\n",
    "        if(low > high) return low;\n",
    "        int mid = (low + high) >> 1;\n",
    "        if(target <= a.get(mid)) return lower_bound(a, low, mid - 1, target);\n",
    "        return lower_bound(a, mid + 1, high, target);\n",
    "    }\n",
    "    public int lengthOfLIS(int[] nums) {\n",
    "        int count = 1;\n",
    "        List<Integer> res = new ArrayList<Integer>();\n",
    "        res.add(nums[0]);\n",
    "        for(int i = 1; i < nums.length; i++) {\n",
    "            if(nums[i] > res.get(res.size() - 1)) {\n",
    "                res.add(nums[i]);\n",
    "                count++;\n",
    "            } else res.set(lower_bound(res, 0, res.size() - 1, nums[i]), nums[i]);\n",
    "        }\n",
    "        return res.size();\n",
    "    }\n",
    "}"
   ]
  },
  {
   "cell_type": "markdown",
   "id": "db1b46e7-5a88-478f-881f-bee945edd70e",
   "metadata": {},
   "source": [
    "### **Minimum Steps to One**"
   ]
  },
  {
   "cell_type": "code",
   "execution_count": 1,
   "id": "d44d9315-485a-415d-ac7c-4c8f3964f6f3",
   "metadata": {},
   "outputs": [
    {
     "name": "stdin",
     "output_type": "stream",
     "text": [
      "Please enter the initial staircase number:  10\n"
     ]
    },
    {
     "name": "stdout",
     "output_type": "stream",
     "text": [
      "[0, 0, 1, 0, 0, 0, 0, 0, 0, 0, 0]\n",
      "[0, 0, 1, 1, 0, 0, 0, 0, 0, 0, 0]\n",
      "[0, 0, 1, 1, 2, 0, 0, 0, 0, 0, 0]\n",
      "[0, 0, 1, 1, 2, 3, 0, 0, 0, 0, 0]\n",
      "[0, 0, 1, 1, 2, 3, 2, 0, 0, 0, 0]\n",
      "[0, 0, 1, 1, 2, 3, 2, 3, 0, 0, 0]\n",
      "[0, 0, 1, 1, 2, 3, 2, 3, 3, 0, 0]\n",
      "[0, 0, 1, 1, 2, 3, 2, 3, 3, 2, 0]\n",
      "[0, 0, 1, 1, 2, 3, 2, 3, 3, 2, 3]\n",
      "3\n"
     ]
    }
   ],
   "source": [
    "import math\n",
    "def minStepsToOneTopDownDP(n, dp):\n",
    "    # base case\n",
    "    if (n == 1): return 0\n",
    "    # recursive case\n",
    "    # lookup whether dp[n] was pre-calculated or not\n",
    "    if (dp[n] != 0): return dp[n]\n",
    "    # compute dp[n] for the first time\n",
    "    option1 = option2 = option3 = math.inf\n",
    "    if (n % 3 == 0):\n",
    "        option1 = minStepsToOneTopDownDP(n // 3, dp)\n",
    "    if (n % 2 == 0):\n",
    "        option2 = minStepsToOneTopDownDP(n // 2, dp)\n",
    "    option3 = minStepsToOneTopDownDP(n - 1, dp)\n",
    "    dp[n] = min(option1, option2, option3) + 1\n",
    "    print (dp)\n",
    "    return dp[n]\n",
    "\n",
    "n = int(input(\"Please enter the initial staircase number: \"))\n",
    "dp = [0 for i in range(n + 1)]\n",
    "print (minStepsToOneTopDownDP(n, dp))"
   ]
  },
  {
   "cell_type": "code",
   "execution_count": null,
   "id": "2af08dd1-4009-42cc-b4da-2751a0311c59",
   "metadata": {},
   "outputs": [],
   "source": [
    "# C++ Implementation\n",
    "// subhadeep CSE\n",
    "#include <bits/stdc++.h> \n",
    "int countStepsToOne(int n) {\n",
    "    vector<int> dp(n+1,0);\n",
    "    dp[1] = 0, dp[2] = 1, dp[3] = 1, dp[4] = 2;\n",
    "    for (int i = 4; i <= n; i++) {\n",
    "        int a = INT_MAX,b = INT_MAX, c = INT_MAX;\n",
    "        if (i % 2 == 0) {\n",
    "            a = 1 + dp[i/2];\n",
    "        }\n",
    "        if (i % 3 == 0) {\n",
    "            b = 1 + dp[i/3];\n",
    "        }\n",
    "        c = 1 + dp[i-1];\n",
    "        dp[i] = min({a,b,c});\n",
    "    }\n",
    "    return dp[n];\n",
    "}"
   ]
  },
  {
   "cell_type": "code",
   "execution_count": null,
   "id": "21eb5dbf-8469-4f98-9e76-6b62f71aa6b8",
   "metadata": {},
   "outputs": [],
   "source": [
    "# Java Implementation\n",
    "import java.util.*;\n",
    "import java.util.Scanner;\n",
    "\n",
    "public class Main {\n",
    "\n",
    "    public static int minStepsToOneTopDownDP(int n, int[] dp) {\n",
    "        // base case\n",
    "        if (n == 1) return 0;\n",
    "        // recursive case\n",
    "        // lookup whether dp[n] was pre-calculated or not\n",
    "        if (dp[n] != 0) return dp[n];\n",
    "        // compute dp[n] for the first time\n",
    "        int option1 = Integer.MAX_VALUE, option2 = Integer.MAX_VALUE, option3 = Integer.MAX_VALUE;\n",
    "        if (n % 3 == 0) {\n",
    "            option1 = minStepsToOneTopDownDP(n / 3, dp);\n",
    "        }\n",
    "        if (n % 2 == 0) {\n",
    "            option2 = minStepsToOneTopDownDP(n / 2, dp);\n",
    "        }\n",
    "        option3 = minStepsToOneTopDownDP(n - 1, dp);\n",
    "        dp[n] = Math.min(Math.min(option1, option2), option3) + 1;\n",
    "        System.out.println(Arrays.toString(dp));\n",
    "        return dp[n];\n",
    "    }\n",
    "\n",
    "    public static void main(String[] args) {\n",
    "        Scanner input = new Scanner(System.in);\n",
    "        System.out.print(\"Please enter the initial staircase number: \");\n",
    "        int n = input.nextInt();\n",
    "        int[] dp = new int[n + 1];\n",
    "        System.out.println(minStepsToOneTopDownDP(n, dp));\n",
    "    }\n",
    "}"
   ]
  },
  {
   "cell_type": "code",
   "execution_count": 2,
   "id": "694832f2-7f4a-4ca5-8733-c0ad8047d6dd",
   "metadata": {},
   "outputs": [
    {
     "name": "stdin",
     "output_type": "stream",
     "text": [
      "Please enter the initial staircase number:  10\n"
     ]
    },
    {
     "name": "stdout",
     "output_type": "stream",
     "text": [
      "[0, 0, 1, 1, 2, 3, 2, 3, 3, 2, 3]\n",
      "3\n"
     ]
    }
   ],
   "source": [
    "import math\n",
    "def minStepsToOneBottomUpDP(n):\n",
    "    # base case\n",
    "    dp = [0 for i in range(n + 1)]\n",
    "    dp[1] = 0\n",
    "    # iterating on n\n",
    "    for i in range(2, n + 1):\n",
    "        option1 = option2 = option3 = math.inf\n",
    "        if (i % 3 == 0): option1 = dp[i // 3]\n",
    "        if (i % 2 == 0): option2 = dp[i // 2]\n",
    "        option3 = dp[i - 1]\n",
    "        dp[i] = min(option1, option2, option3) + 1\n",
    "    print (dp)\n",
    "    return dp[n]\n",
    "\n",
    "n = int(input(\"Please enter the initial staircase number: \"))\n",
    "print (minStepsToOneBottomUpDP(n))"
   ]
  },
  {
   "cell_type": "code",
   "execution_count": null,
   "id": "12975daf-0516-4ec5-b6ab-b7485f310e81",
   "metadata": {},
   "outputs": [],
   "source": [
    "LeetCode: 70. Climbing Stairs\n",
    "\n",
    "You are climbing a staircase. It takes n steps to reach the top.\n",
    "Each time you can either climb 1 or 2 steps. In how many distinct ways can you climb to the top?\n",
    "\n",
    "Example 1:\n",
    "Input: n = 2\n",
    "Output: 2\n",
    "Explanation: There are two ways to climb to the top.\n",
    "1. 1 step + 1 step\n",
    "2. 2 steps\n",
    "\n",
    "Example 2:\n",
    "Input: n = 3\n",
    "Output: 3\n",
    "Explanation: There are three ways to climb to the top.\n",
    "1. 1 step + 1 step + 1 step\n",
    "2. 1 step + 2 steps\n",
    "3. 2 steps + 1 step\n",
    "\n",
    "Constraints:\n",
    "1 <= n <= 45"
   ]
  },
  {
   "cell_type": "code",
   "execution_count": 3,
   "id": "aa3356c7-811e-4228-9e36-a87803ea93a0",
   "metadata": {},
   "outputs": [
    {
     "name": "stdout",
     "output_type": "stream",
     "text": [
      "[0, 1, 2, 3, 5, 8, 13, 21, 34, 55, 89]\n",
      "89\n"
     ]
    }
   ],
   "source": [
    "class Solution(object):\n",
    "    def climbStairs(self, n):\n",
    "        \"\"\"\n",
    "        :type n: int\n",
    "        :rtype: int\n",
    "        \"\"\"\n",
    "        if (n == 1 or n == 2): return n\n",
    "        dp = [0 for i in range(n + 1)]\n",
    "        dp[1] = 1\n",
    "        dp[2] = 2\n",
    "        for i in range(3, n + 1):\n",
    "            dp[i] = dp[i - 1] +  dp[i - 2]\n",
    "        print (dp)\n",
    "        return dp[n]\n",
    "print (Solution().climbStairs(10))"
   ]
  },
  {
   "cell_type": "code",
   "execution_count": null,
   "id": "2602d168-72dd-4c49-b004-bf9239b77272",
   "metadata": {},
   "outputs": [],
   "source": [
    "# Java Implementation\n",
    "\n",
    "class Solution {\n",
    "    int[] dp = new int[100];\n",
    "    public int climbStairs(int n) {\n",
    "        if(n == 1) return dp[n] = 1;\n",
    "        if(n == 2) return dp[n] = 2;\n",
    "        if(dp[n] != 0) return dp[n];\n",
    "        return dp[n] = climbStairs(n - 1) + climbStairs(n - 2);\n",
    "    }\n",
    "}"
   ]
  },
  {
   "cell_type": "code",
   "execution_count": null,
   "id": "fb75b859-25a6-4268-af95-8261e4cb2f54",
   "metadata": {},
   "outputs": [],
   "source": [
    "# C++ Implementation\n",
    "class Solution {\n",
    "public:\n",
    "    int climbStairs(int n) {\n",
    "        int a=0 ,b=1;\n",
    "        for(int i=0;i<n;i++){\n",
    "            int temp=a+b;\n",
    "            a=b;\n",
    "            b=temp;\n",
    "        }\n",
    "        return b;\n",
    "    }\n",
    "};"
   ]
  },
  {
   "cell_type": "code",
   "execution_count": null,
   "id": "bdeb5dfa-d3c6-428d-8c77-367cb31822c6",
   "metadata": {},
   "outputs": [],
   "source": [
    "# C++ Implementation\n",
    "class Solution {\n",
    "public:\n",
    "    int climbStairs(int n) {\n",
    "        int *ans = new int[n+1];\n",
    "\n",
    "        ans[0] = 1;\n",
    "        ans[1] = 1;\n",
    "\n",
    "        for(int i = 2; i <= n; i++){\n",
    "            int step1 =  ans[i-1];\n",
    "            int step2 = (i - 2 >= 0) ? ans[i-2] : 0;\n",
    "\n",
    "            ans[i] = step1 + step2;\n",
    "        }\n",
    "\n",
    "        return ans[n];\n",
    "    }\n",
    "};"
   ]
  },
  {
   "cell_type": "markdown",
   "id": "9f988dd4-4a56-47cf-9416-f618baa0b143",
   "metadata": {},
   "source": [
    "### **Coin Change Problem**"
   ]
  },
  {
   "cell_type": "code",
   "execution_count": 5,
   "id": "caa216ee-fb22-4ec2-8435-01189add1a1b",
   "metadata": {},
   "outputs": [
    {
     "name": "stdout",
     "output_type": "stream",
     "text": [
      "[0, 1, 0, 0, 0, 0, 0, 0, 0, 0, 0, 0, 0, 0, 0, 0]\n",
      "[0, 1, 2, 0, 0, 0, 0, 0, 0, 0, 0, 0, 0, 0, 0, 0]\n",
      "[0, 1, 2, 3, 0, 0, 0, 0, 0, 0, 0, 0, 0, 0, 0, 0]\n",
      "[0, 1, 2, 3, 4, 0, 0, 0, 0, 0, 0, 0, 0, 0, 0, 0]\n",
      "[0, 1, 2, 3, 4, 5, 0, 0, 0, 0, 0, 0, 0, 0, 0, 0]\n",
      "[0, 1, 2, 3, 4, 5, 6, 0, 0, 0, 0, 0, 0, 0, 0, 0]\n",
      "[0, 1, 2, 3, 4, 5, 6, 1, 0, 0, 0, 0, 0, 0, 0, 0]\n",
      "[0, 1, 2, 3, 4, 5, 6, 1, 2, 0, 0, 0, 0, 0, 0, 0]\n",
      "[0, 1, 2, 3, 4, 5, 6, 1, 2, 3, 0, 0, 0, 0, 0, 0]\n",
      "[0, 1, 2, 3, 4, 5, 6, 1, 2, 3, 1, 0, 0, 0, 0, 0]\n",
      "[0, 1, 2, 3, 4, 5, 6, 1, 2, 3, 1, 2, 0, 0, 0, 0]\n",
      "[0, 1, 2, 3, 4, 5, 6, 1, 2, 3, 1, 2, 3, 0, 0, 0]\n",
      "[0, 1, 2, 3, 4, 5, 6, 1, 2, 3, 1, 2, 3, 4, 0, 0]\n",
      "[0, 1, 2, 3, 4, 5, 6, 1, 2, 3, 1, 2, 3, 4, 2, 0]\n",
      "[0, 1, 2, 3, 4, 5, 6, 1, 2, 3, 1, 2, 3, 4, 2, 3]\n",
      "3\n"
     ]
    }
   ],
   "source": [
    "# minimum coin change problem\n",
    "# complexity = O(N x T), where N is the total amount and T is the number of varity of coins\n",
    "import math\n",
    "def minCoinsTopDown(N, coins, T, dp):\n",
    "    # base case\n",
    "    if (N == 0): return 0\n",
    "    # lookup into the dp array for previous solutions\n",
    "    if (dp[N] != 0): return dp[N]\n",
    "    # recursive case\n",
    "    ans = math.inf\n",
    "    for i in range(T):\n",
    "        if (N - coins[i] >= 0):\n",
    "            subprob = minCoinsTopDown(N - coins[i], coins, T, dp)\n",
    "            ans = min(ans, subprob + 1)\n",
    "    dp[N] = ans\n",
    "    print (dp)\n",
    "    return dp[N]\n",
    "\n",
    "N = 15  # 10\n",
    "coins = [1, 7, 10]  # [1, 3, 5]\n",
    "T = len(coins)\n",
    "dp = [0 for i in range(N + 1)]\n",
    "print (minCoinsTopDown(N, coins, T, dp))"
   ]
  },
  {
   "cell_type": "code",
   "execution_count": 6,
   "id": "33e67b45-3fc4-4c88-bf2a-4ef52eca9091",
   "metadata": {},
   "outputs": [
    {
     "name": "stdout",
     "output_type": "stream",
     "text": [
      "[0, 1, 2, 1, 2, 1, 2, 3, 2, 3, 2]\n",
      "2\n"
     ]
    }
   ],
   "source": [
    "import math\n",
    "def minCoinsBottomUp(N, coins, T):\n",
    "    dp = [0 for i in range(N + 1)]\n",
    "    # iterate over all states, 1..N\n",
    "    for n in range(1, N + 1):\n",
    "        # initiate the current ans as maximum\n",
    "        dp[n] = math.inf\n",
    "        for i in range(T):\n",
    "            if (n - coins[i] >= 0):\n",
    "                subprob = dp[n - coins[i]]\n",
    "                dp[n] = min(dp[n], subprob + 1)\n",
    "    print (dp)\n",
    "    return dp[N]\n",
    "\n",
    "N = 10   # 15\n",
    "coins = [1, 3, 5]   # [1, 7, 10]\n",
    "T = len(coins)\n",
    "print (minCoinsBottomUp(N, coins, T))"
   ]
  },
  {
   "cell_type": "code",
   "execution_count": null,
   "id": "9952730b-7ea8-4644-ad1e-fe7fa0bc6983",
   "metadata": {},
   "outputs": [],
   "source": [
    "LeetCode: 322. Coin Change (https://leetcode.com/problems/coin-change/)\n",
    "\n",
    "You are given an integer array coins representing coins of different denominations and an integer amount representing a \n",
    "total amount of money.\n",
    "Return the fewest number of coins that you need to make up that amount. If that amount of money cannot be made up by\n",
    "any combination of the coins, return -1.\n",
    "You may assume that you have an infinite number of each kind of coin.\n",
    "\n",
    "Example 1:\n",
    "Input: coins = [1,2,5], amount = 11\n",
    "Output: 3\n",
    "Explanation: 11 = 5 + 5 + 1\n",
    "\n",
    "Example 2:\n",
    "Input: coins = [2], amount = 3\n",
    "Output: -1\n",
    "\n",
    "Example 3:\n",
    "Input: coins = [1], amount = 0\n",
    "Output: 0\n",
    "\n",
    "Constraints:\n",
    "1 <= coins.length <= 12\n",
    "1 <= coins[i] <= 2^31 - 1\n",
    "0 <= amount <= 10^4"
   ]
  },
  {
   "cell_type": "code",
   "execution_count": null,
   "id": "0a678ac6-1b41-41e2-9286-eaf4255db62f",
   "metadata": {},
   "outputs": [],
   "source": [
    "class Solution:\n",
    "    def coinChange(self, coins: List[int], amount: int) -> int:\n",
    "        T = len(coins)\n",
    "        dp = [0 for i in range(amount + 1)]\n",
    "        # iterate over all states 1..amount\n",
    "        for n in range(1, amount + 1):\n",
    "            # initiate the current ans as maximum\n",
    "            dp[n] = math.inf\n",
    "            for i in range(T):\n",
    "                if (n - coins[i] >= 0):\n",
    "                    subprob = dp[n - coins[i]]\n",
    "                    dp[n] = min(dp[n], subprob + 1)\n",
    "        if (dp[amount] == math.inf): return -1\n",
    "        else: return dp[amount]"
   ]
  },
  {
   "cell_type": "markdown",
   "id": "cba77e72-3418-4788-ab79-5bf343bd429b",
   "metadata": {},
   "source": [
    "### **Wines Problem**"
   ]
  },
  {
   "cell_type": "code",
   "execution_count": null,
   "id": "701609d5-cbea-4c79-a694-ef64ca99635a",
   "metadata": {},
   "outputs": [],
   "source": [
    "Problem Descriptions:\n",
    "    1. Price of n number of wine bottles are stored in an array p.\n",
    "    2. Each year only one bottle of wine can be sold.\n",
    "    3. Only the leftmost or the rightmost wine bottle available in the array can be sold.\n",
    "    4. Each and every year the price of the wine bottles will be increased by the factor of year number y.\n",
    "    5. If we sell i-th wine bottle with price p[i] in the y-th year then the selling price will be (p[i] * y).\n",
    "    6. Find the maximum total value of the all selling prices."
   ]
  },
  {
   "cell_type": "code",
   "execution_count": 8,
   "id": "27f10e56-00d4-432e-8726-952038936c8c",
   "metadata": {},
   "outputs": [
    {
     "name": "stdout",
     "output_type": "stream",
     "text": [
      "50\n",
      "23\n"
     ]
    }
   ],
   "source": [
    "def winesProfitTopDownRecursive(wines, i, j, y):\n",
    "    # base case\n",
    "    if (i > j): return 0\n",
    "    # recursive case\n",
    "    price_left = wines[i] * y + winesProfitTopDownRecursive(wines, i + 1, j, y + 1)\n",
    "    price_right = wines[j] * y + winesProfitTopDownRecursive(wines, i, j - 1, y + 1)\n",
    "    return max(price_left, price_right)\n",
    "\n",
    "wines = [2, 3, 5, 1, 4]\n",
    "n = len(wines)\n",
    "y = 1\n",
    "print (winesProfitTopDownRecursive(wines, 0, n - 1, y))\n",
    "\n",
    "wines = [2, 3, 5]\n",
    "n = len(wines)\n",
    "y = 1\n",
    "print (winesProfitTopDownRecursive(wines, 0, n - 1, y))"
   ]
  },
  {
   "cell_type": "code",
   "execution_count": 11,
   "id": "aea55081-e672-4905-8f9a-145f60766e5d",
   "metadata": {},
   "outputs": [
    {
     "name": "stdout",
     "output_type": "stream",
     "text": [
      "50\n",
      "[[10, 23, 43, 45, 50], [0, 15, 37, 40, 48], [0, 0, 25, 29, 41], [0, 0, 0, 5, 24], [0, 0, 0, 0, 20]]\n",
      "23\n",
      "[[6, 13, 23], [0, 9, 21], [0, 0, 15]]\n"
     ]
    }
   ],
   "source": [
    "def winesProfitTopDownRecursiveDP(wines, i, j, y, dp):\n",
    "    # base case\n",
    "    if (i > j): return 0\n",
    "    \n",
    "    # returns if the dp[i][j] already got computed\n",
    "    if (dp[i][j] != 0): return dp[i][j]\n",
    "    \n",
    "    # recursive case\n",
    "    price_left = wines[i] * y + winesProfitTopDownRecursiveDP(wines, i + 1, j, y + 1, dp)\n",
    "    price_right = wines[j] * y + winesProfitTopDownRecursiveDP(wines, i, j - 1, y + 1, dp)\n",
    "    dp[i][j] = max(price_left, price_right)\n",
    "    return dp[i][j]\n",
    "\n",
    "wines = [2, 3, 5, 1, 4]\n",
    "n = len(wines)\n",
    "dp = [[0 for _ in range(n)] for _ in range(n)]\n",
    "y = 1\n",
    "print (winesProfitTopDownRecursiveDP(wines, 0, n - 1, y, dp))\n",
    "print (dp)\n",
    "\n",
    "wines = [2, 3, 5]\n",
    "n = len(wines)\n",
    "dp = [[0 for _ in range(n)] for _ in range(n)]\n",
    "y = 1\n",
    "print (winesProfitTopDownRecursiveDP(wines, 0, n - 1, y, dp))\n",
    "print (dp)"
   ]
  },
  {
   "cell_type": "code",
   "execution_count": null,
   "id": "5e00427c-f354-46ab-a6c4-04bac98cfdc7",
   "metadata": {},
   "outputs": [],
   "source": [
    "# Java Implementation\n",
    "import java.util.*;\n",
    "\n",
    "public class Main {\n",
    "    public static int findmaxProfit(int[] winePrice, int n) {\n",
    "        int[][] dp = new int[n][n];\n",
    "        for (int i = 0; i < n; i++) {\n",
    "            dp[i][i] = n * winePrice[i];\n",
    "        }\n",
    "\n",
    "        for (int i = n-2; i >= 0; i--) {\n",
    "            for (int j = i+1; j < n; j++) {\n",
    "                int y = n -(j-i);\n",
    "                int left = y * winePrice[i] + dp[i+1][j];\n",
    "                int right = y * winePrice[j] + dp[i][j-1];\n",
    "                dp[i][j] = Math.max(left, right);\n",
    "            }\n",
    "        }\n",
    "        return dp[0][n-1];\n",
    "    }\n",
    "\n",
    "    public static void main(String[] args) {\n",
    "        // Price array\n",
    "        int[] winePrice = { 2, 3, 5, 1, 4 };\n",
    "        int n = winePrice.length;\n",
    "        int ans = findmaxProfit(winePrice, n);\n",
    "        System.out.println(ans);\n",
    "    }\n",
    "}"
   ]
  },
  {
   "cell_type": "code",
   "execution_count": 15,
   "id": "a3cf77ac-dc58-4aca-a0d7-14c3bb811d96",
   "metadata": {},
   "outputs": [
    {
     "name": "stdout",
     "output_type": "stream",
     "text": [
      "[[10, 23, 43, 45, 50], [0, 15, 37, 40, 48], [0, 0, 25, 29, 41], [0, 0, 0, 5, 24], [0, 0, 0, 0, 20]]\n",
      "50\n",
      "[[6, 13, 23], [0, 9, 21], [0, 0, 15]]\n",
      "23\n"
     ]
    }
   ],
   "source": [
    "def winesProfitBottomUpDP(wines):\n",
    "    n = len(wines)\n",
    "    dp = [[0 for col in range(n)] for row in range(n)]\n",
    "    y = n\n",
    "    for row in range(n): dp[row][row] = wines[row] * y\n",
    "    \n",
    "    y = y - 1\n",
    "    for startcol in range(1, n):\n",
    "        col = startcol\n",
    "        row = 0\n",
    "        while (col < n):\n",
    "            dp[row][col] = max(wines[col] * y + dp[row][col - 1], wines[row] * y + dp[row + 1][col])\n",
    "            col += 1\n",
    "            row += 1\n",
    "        y -= 1\n",
    "    print (dp)\n",
    "    return dp[0][n - 1]\n",
    "\n",
    "wines = [2, 3, 5, 1, 4]\n",
    "print (winesProfitBottomUpDP(wines))\n",
    "\n",
    "wines = [2, 3, 5]\n",
    "print (winesProfitBottomUpDP(wines))"
   ]
  },
  {
   "cell_type": "code",
   "execution_count": null,
   "id": "c5ae7a4e-0cf3-4965-8171-c402305293f1",
   "metadata": {},
   "outputs": [],
   "source": [
    "LeetCode: 64. Minimum Path Sum (https://leetcode.com/problems/minimum-path-sum/)\n",
    "\n",
    "Given a m x n grid filled with non-negative numbers, find a path from top left to bottom right,\n",
    "which minimizes the sum of all numbers along its path.\n",
    "\n",
    "Note: You can only move either down or right at any point in time.\n",
    "\n",
    "Example 1:\n",
    "Input: grid = [[1,3,1],[1,5,1],[4,2,1]]\n",
    "Output: 7\n",
    "Explanation: Because the path 1 → 3 → 1 → 1 → 1 minimizes the sum.\n",
    "\n",
    "Example 2:\n",
    "Input: grid = [[1,2,3],[4,5,6]]\n",
    "Output: 12\n",
    "\n",
    "Constraints:\n",
    "m == grid.length\n",
    "n == grid[i].length\n",
    "1 <= m, n <= 200\n",
    "0 <= grid[i][j] <= 100"
   ]
  },
  {
   "cell_type": "code",
   "execution_count": 17,
   "id": "e9a7b61d-1731-4d8d-9a62-af009f2c95b6",
   "metadata": {},
   "outputs": [
    {
     "name": "stdout",
     "output_type": "stream",
     "text": [
      "7\n",
      "49\n"
     ]
    }
   ],
   "source": [
    "class Solution(object):\n",
    "    def minPathSum(self, grid):\n",
    "        \"\"\"\n",
    "        :type grid: List[List[int]]\n",
    "        :rtype: int\n",
    "        \"\"\"\n",
    "        m = len(grid)\n",
    "        n = len(grid[0])\n",
    "        dp = [[0 for col in range(n)] for row in range(m)]\n",
    "        dp[0][0] = grid[0][0]\n",
    "        for i in range(1, m):\n",
    "            dp[i][0] = dp[i - 1][0] + grid[i][0]\n",
    "        for j in range(1, n):\n",
    "            dp[0][j] = dp[0][j - 1] + grid[0][j]\n",
    "        for i in range(1, m):\n",
    "            for j in range(1, n):\n",
    "                dp[i][j] = grid[i][j] + min(dp[i - 1][j], dp[i][j - 1])\n",
    "        return dp[m - 1][n - 1]\n",
    "    \n",
    "grid = [[1,3,1],[1,5,1],[4,2,1]]\n",
    "print (Solution().minPathSum(grid))\n",
    "grid = [[3,7,9,2,7],[9,8,3,5,5],[1,7,9,8,5],[3,8,6,4,10],[6,3,9,7,8]]\n",
    "print (Solution().minPathSum(grid))"
   ]
  },
  {
   "cell_type": "code",
   "execution_count": 18,
   "id": "d1ebbff4-f60b-4047-ba4d-96409118e72c",
   "metadata": {},
   "outputs": [
    {
     "name": "stdout",
     "output_type": "stream",
     "text": [
      "12\n"
     ]
    }
   ],
   "source": [
    "# Python Implementation\n",
    "from typing import List\n",
    "\n",
    "class Solution:\n",
    "    def minPathSum(self, grid: List[List[int]]) -> int:\n",
    "        m = len(grid)\n",
    "        n = len(grid[0])\n",
    "\n",
    "        for i in range(m):\n",
    "            for j in range(n):\n",
    "                if i > 0 and j > 0:\n",
    "                    grid[i][j] += min(grid[i - 1][j], grid[i][j - 1])\n",
    "                elif i > 0:\n",
    "                    grid[i][0] += grid[i - 1][0]\n",
    "                elif j > 0:\n",
    "                    grid[0][j] += grid[0][j - 1]\n",
    "\n",
    "        return grid[m - 1][n - 1]\n",
    "\n",
    "def main():\n",
    "    # Example usage\n",
    "    s = Solution()\n",
    "    grid = [[1,2,3],[4,5,6]]\n",
    "    result = s.minPathSum(grid)\n",
    "    print(result) # Expected output: 7\n",
    "\n",
    "if __name__ == \"__main__\":\n",
    "    main()\n"
   ]
  },
  {
   "cell_type": "code",
   "execution_count": null,
   "id": "73850d11-fa40-4426-a34c-bfcb9f10c477",
   "metadata": {},
   "outputs": [],
   "source": [
    "# Java Implementation\n",
    "//Java Implementation\n",
    "class Solution {\n",
    "    public int minPathSum(int[][] grid) {\n",
    "        int m = grid.length;                        // Number of rows\n",
    "        int n = grid[0].length;                     // Number of columns\n",
    "        int[][] dp = new int[m][n];                 // Initializing the dp array\n",
    "        dp[0][0] = grid[0][0];                      // First cell of dp array will be same as grid array\n",
    "                                                    // Initialize the first row\n",
    "        for (int j = 1; j < n; j++) {\n",
    "            dp[0][j] = dp[0][j-1] + grid[0][j];\n",
    "        }\n",
    "                                                    // Initialize the first column\n",
    "        for (int i = 1; i < m; i++) {\n",
    "            dp[i][0] = dp[i-1][0] + grid[i][0];\n",
    "        }\n",
    "                                                    // Fill the rest of the dp table\n",
    "        for (int i = 1; i < m; i++) {\n",
    "            for (int j = 1; j < n; j++) {\n",
    "                dp[i][j] = Math.min(dp[i - 1][j], dp[i][j - 1]) + grid[i][j];\n",
    "            }\n",
    "        }\n",
    "                                                    // Return the bottom-right cell entry      \n",
    "        return dp[m - 1][n - 1];\n",
    "    }\n",
    "}"
   ]
  }
 ],
 "metadata": {
  "kernelspec": {
   "display_name": "Python 3",
   "language": "python",
   "name": "python3"
  },
  "language_info": {
   "codemirror_mode": {
    "name": "ipython",
    "version": 3
   },
   "file_extension": ".py",
   "mimetype": "text/x-python",
   "name": "python",
   "nbconvert_exporter": "python",
   "pygments_lexer": "ipython3",
   "version": "3.8.8"
  }
 },
 "nbformat": 4,
 "nbformat_minor": 5
}
